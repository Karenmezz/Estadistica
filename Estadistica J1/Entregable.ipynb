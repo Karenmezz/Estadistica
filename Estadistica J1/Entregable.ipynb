{
 "cells": [
  {
   "cell_type": "markdown",
   "id": "a2c13503-350e-422e-a0ed-a2b056505d4d",
   "metadata": {},
   "source": [
    "# **INFORMACION GENERAL**\n",
    "## Características del trabajo\n",
    "Las variables seleccionadas son:\n",
    "\n",
    "* Semana epidemiológica\n",
    "* Año epidemiológica, tener en cuenta que la mayoría de filas son del 2022 y la minoría de 2023.\n",
    "* Departamento\n",
    "* Municipio\n",
    "* Sexo\n",
    "* Edad\n",
    "* Fecha de inicio de síntomas (modificar datos)\n",
    "* Fecha de exantema (modificar datos)\n",
    "* Hospitalización\n",
    "* Fuente de infección\n",
    "* Tipo de seguridad social\n",
    "\n",
    "## Fuentes\n",
    "Esta base de datos se encontro en Casos positivos de Viruela símica en Colombia en:\n",
    "\n",
    "*El Instituto Nacional de Salud Publicó el Conjunto de Datos de Viruela Símica en Colombia | Datos Abiertos. (s. f.). https://herramientas.datos.gov.co/noticias/el-instituto-nacional-de-salud-publico-el-conjunto-de-datos-de-viruela-simica-en-colombia*"
   ]
  },
  {
   "cell_type": "markdown",
   "id": "90f4a332-5914-4457-8276-a0f0d6b9573f",
   "metadata": {},
   "source": [
    "# **CONTENIDO**\n",
    "\n",
    "## **Importación y filtrado**\n",
    "Importamos el conjunto de datos."
   ]
  },
  {
   "cell_type": "code",
   "execution_count": 13,
   "id": "38943441-8abe-4771-862f-92b93b7b595e",
   "metadata": {},
   "outputs": [],
   "source": [
    "import pandas as pd\n",
    "datos = pd.read_csv('./Casos_positivos_de_Viruela_s_mica_en_Colombia.csv')"
   ]
  },
  {
   "cell_type": "markdown",
   "id": "b169c87f-2580-4c9b-83cf-421daea9fea3",
   "metadata": {},
   "source": [
    "Descartamos las columnas que no vamos a utilizar y limpiamos de nulos nuestra tabla de datos."
   ]
  },
  {
   "cell_type": "code",
   "execution_count": 14,
   "id": "8ec19d72-4461-490d-9fc6-c106d2831d64",
   "metadata": {},
   "outputs": [
    {
     "name": "stdout",
     "output_type": "stream",
     "text": [
      "<class 'pandas.core.frame.DataFrame'>\n",
      "RangeIndex: 4089 entries, 0 to 4088\n",
      "Data columns (total 12 columns):\n",
      " #   Column                       Non-Null Count  Dtype \n",
      "---  ------                       --------------  ----- \n",
      " 0   Semana epidemiológica        4089 non-null   int64 \n",
      " 1   Año epidemiológico           4089 non-null   int64 \n",
      " 2   Departamento                 4089 non-null   object\n",
      " 3   Municipio                    4089 non-null   object\n",
      " 4   Sexo                         4089 non-null   object\n",
      " 5   Edad                         4089 non-null   int64 \n",
      " 6   Fecha de inicio de síntomas  4089 non-null   object\n",
      " 7   Fecha de exantema            4089 non-null   object\n",
      " 8   Hospitalización              4089 non-null   int64 \n",
      " 9   Vínculo epidemiológico       4089 non-null   int64 \n",
      " 10  Fuente de infección          4089 non-null   object\n",
      " 11  Tipo de seguridad social     4089 non-null   object\n",
      "dtypes: int64(5), object(7)\n",
      "memory usage: 383.5+ KB\n"
     ]
    }
   ],
   "source": [
    "datos = datos.drop(columns=[\n",
    "    'Código DIVIPOLA departamento',\n",
    "    'Código DIVIPOLA municipio',\n",
    "    'Fecha notificación',\n",
    "    'Fecha diagnóstico',\n",
    "    'Unidad de medida',\n",
    "    'Condición final',\n",
    "    '¿Viajó?',\n",
    "    'País de viaje',\n",
    "    'Fecha de terminación del seguimiento',\n",
    "    'Pertenencia étnica',\n",
    "    'Nombre grupo étnico',\n",
    "    'Estrato'\n",
    "])\n",
    "\n",
    "filas_totales = len(datos.index)\n",
    "datos.info()"
   ]
  },
  {
   "cell_type": "markdown",
   "id": "844461b0-9ae9-4eb3-bcf0-9928e3f398d2",
   "metadata": {},
   "source": [
    "Como vemos no tenemos filas con valores nulos en las columnas que vamos a utilizar para nuestro análisis, por lo tanto, el conjunto de datos está listo para ser tratado."
   ]
  },
  {
   "cell_type": "markdown",
   "id": "0da8f1a6-b7ee-4208-9e5d-c92b9340fbe5",
   "metadata": {
    "tags": []
   },
   "source": [
    "## **Análisis**\n",
    "### **Medidas de tendencia central**"
   ]
  },
  {
   "cell_type": "markdown",
   "id": "eeb118d4-e968-4109-8a37-eef2972beceb",
   "metadata": {},
   "source": [
    "Aquí va lo que ya hizo Karen."
   ]
  },
  {
   "cell_type": "markdown",
   "id": "51d6a5d4-4fec-486e-9329-6b91d95728b8",
   "metadata": {},
   "source": [
    "### **Clases**\n",
    "Para nuestro caso nos enfocamos en dos variables para hacer clases:\n",
    "+ Edad\n",
    "+ Sexo\n",
    "\n",
    "En la variable 'Edad' utilizamos los grupos etarios que propone el *Ministerio de Salud y Protección Social de Colombia*, quedando así:\n",
    "1. Primera infancia: 0 a 5 años.\n",
    "2. Infancia: 6 a 11 años.\n",
    "3. Adolescencia: 12 a 17 años.\n",
    "4. Adulto: 18 a 59 años.\n",
    "5. Adulto mayor: 60 años o más."
   ]
  },
  {
   "cell_type": "code",
   "execution_count": 15,
   "id": "de45fcfb-36e1-4c27-b2cc-ec95fc7602bc",
   "metadata": {},
   "outputs": [],
   "source": [
    "primera_infancia = datos[(datos['Edad'] >= 0) & (datos['Edad'] < 6)]\n",
    "infancia = datos[(datos['Edad'] >= 6) & (datos['Edad'] < 12)]\n",
    "adolescencia = datos[(datos['Edad'] >= 12) & (datos['Edad'] < 18)]\n",
    "adulto = datos[(datos['Edad'] >= 18) & (datos['Edad'] < 60)]\n",
    "adulto_mayor = datos[(datos['Edad'] >= 60)]"
   ]
  },
  {
   "cell_type": "markdown",
   "id": "1e198545-82fc-4367-8666-db6f361a08bc",
   "metadata": {},
   "source": [
    "Con los conjuntos separados calculamos las frencuencias absolutas y relativas."
   ]
  },
  {
   "cell_type": "code",
   "execution_count": 16,
   "id": "0f7cf356-3f77-4606-b912-44e6eb3f3f6e",
   "metadata": {},
   "outputs": [
    {
     "name": "stdout",
     "output_type": "stream",
     "text": [
      "0.001222792858889704 0.0019564685742235266 0.006358522866226461 0.9843482514062117 0.006113964294448521\n"
     ]
    }
   ],
   "source": [
    "# fa = frecuencia absoluta\n",
    "fa_primera_infancia = len(primera_infancia.index)\n",
    "fa_infancia = len(infancia.index)\n",
    "fa_adolescencia = len(adolescencia.index)\n",
    "fa_adulto = len(adulto.index)\n",
    "fa_adulto_mayor = len(adulto_mayor.index)\n",
    "\n",
    "# fr = frecuencia relativa\n",
    "fr_primera_infancia = fa_primera_infancia / filas_totales\n",
    "fr_infancia = fa_infancia / filas_totales\n",
    "fr_adolescencia = fa_adolescencia / filas_totales\n",
    "fr_adulto = fa_adulto / filas_totales\n",
    "fr_adulto_mayor = fa_adulto_mayor / filas_totales\n",
    "\n",
    "# Esta sección aún está en trabajo...\n",
    "print(\n",
    "    fr_primera_infancia,\n",
    "    fr_infancia,\n",
    "    fr_adolescencia,\n",
    "    fr_adulto,\n",
    "    fr_adulto_mayor\n",
    ")"
   ]
  },
  {
   "cell_type": "markdown",
   "id": "d3907074-7b72-4717-8e8f-353be3c50bc1",
   "metadata": {},
   "source": [
    "Tomando en cuenta el orden de los grupos etarios que se sugirio, quedaría las frecuencias absolutas acumuladas y frecuencias relativas acumuladas así:"
   ]
  },
  {
   "cell_type": "code",
   "execution_count": 17,
   "id": "9df1f34d-106e-4de8-abde-92e45830665f",
   "metadata": {},
   "outputs": [],
   "source": [
    "#faa = frecuencia absoluta acumulada\n",
    "faa1 = fa_primera_infancia\n",
    "faa2 = faa1 + fa_infancia \n",
    "faa3 = faa2 + fa_adolescencia\n",
    "faa4 = faa3 + fa_adulto\n",
    "faa5 = faa4 + fa_adulto_mayor\n",
    "\n",
    "#fra = frecuencia relativa acumulada\n",
    "fra1 = fr_primera_infancia\n",
    "fra2 = fra1 + fr_infancia \n",
    "fra3 = fra2 + fr_adolescencia\n",
    "fra4 = fra3 + fr_adulto\n",
    "fra5 = fra4 + fr_adulto_mayor"
   ]
  }
 ],
 "metadata": {
  "kernelspec": {
   "display_name": "Python 3 (ipykernel)",
   "language": "python",
   "name": "python3"
  },
  "language_info": {
   "codemirror_mode": {
    "name": "ipython",
    "version": 3
   },
   "file_extension": ".py",
   "mimetype": "text/x-python",
   "name": "python",
   "nbconvert_exporter": "python",
   "pygments_lexer": "ipython3",
   "version": "3.10.9"
  }
 },
 "nbformat": 4,
 "nbformat_minor": 5
}
